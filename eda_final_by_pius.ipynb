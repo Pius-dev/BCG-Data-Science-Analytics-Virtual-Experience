{
 "cells": [
  {
   "cell_type": "markdown",
   "id": "a207638d-2d90-4a41-81e0-f86b35a174f9",
   "metadata": {},
   "source": [
    "# Exploratory Data Analysis Starter\n",
    "\n",
    "## Import packages"
   ]
  },
  {
   "cell_type": "code",
   "execution_count": 38,
   "id": "21fa22a3-62fc-4ee9-ad3b-5e3fbc059bdf",
   "metadata": {},
   "outputs": [],
   "source": [
    "import matplotlib.pyplot as plt\n",
    "import seaborn as sns\n",
    "import pandas as pd\n",
    "import numpy as np\n",
    "\n",
    "\n",
    "# Shows plots in jupyter notebook\n",
    "%matplotlib inline\n",
    "\n",
    "# Set plot style\n",
    "sns.set(color_codes=True)"
   ]
  },
  {
   "cell_type": "markdown",
   "id": "88cb5312-cbc0-4193-b84e-2c94455c9edf",
   "metadata": {},
   "source": [
    "---\n",
    "\n",
    "## Loading data with Pandas\n",
    "\n",
    "We need to load `client_data.csv` and `price_data.csv` into individual dataframes so that we can work with them in Python. For this notebook and all further notebooks, it will be assumed that the CSV files will the placed in the same file location as the notebook. If they are not, please adjust the directory within the `read_csv` method accordingly."
   ]
  },
  {
   "cell_type": "code",
   "execution_count": 4,
   "id": "82e6a4ae-2b8a-4152-b04f-0c998466fd50",
   "metadata": {},
   "outputs": [],
   "source": [
    "client_df = pd.read_csv('./client_data.csv')\n",
    "price_df = pd.read_csv('./price_data.csv')"
   ]
  },
  {
   "cell_type": "markdown",
   "id": "4ac7aaab-7c26-40ca-8f63-cf2ef9541ce6",
   "metadata": {},
   "source": [
    "You can view the first 3 rows of a dataframe using the `head` method. Similarly, if you wanted to see the last 3, you can use `tail(3)`"
   ]
  },
  {
   "cell_type": "code",
   "execution_count": 24,
   "id": "dcf0d488-d3df-4819-a52b-e335c0674e43",
   "metadata": {
    "scrolled": true
   },
   "outputs": [
    {
     "data": {
      "text/html": [
       "<div>\n",
       "<style scoped>\n",
       "    .dataframe tbody tr th:only-of-type {\n",
       "        vertical-align: middle;\n",
       "    }\n",
       "\n",
       "    .dataframe tbody tr th {\n",
       "        vertical-align: top;\n",
       "    }\n",
       "\n",
       "    .dataframe thead th {\n",
       "        text-align: right;\n",
       "    }\n",
       "</style>\n",
       "<table border=\"1\" class=\"dataframe\">\n",
       "  <thead>\n",
       "    <tr style=\"text-align: right;\">\n",
       "      <th></th>\n",
       "      <th>id</th>\n",
       "      <th>channel_sales</th>\n",
       "      <th>cons_12m</th>\n",
       "      <th>cons_gas_12m</th>\n",
       "      <th>cons_last_month</th>\n",
       "      <th>date_activ</th>\n",
       "      <th>date_end</th>\n",
       "      <th>date_modif_prod</th>\n",
       "      <th>date_renewal</th>\n",
       "      <th>forecast_cons_12m</th>\n",
       "      <th>...</th>\n",
       "      <th>has_gas</th>\n",
       "      <th>imp_cons</th>\n",
       "      <th>margin_gross_pow_ele</th>\n",
       "      <th>margin_net_pow_ele</th>\n",
       "      <th>nb_prod_act</th>\n",
       "      <th>net_margin</th>\n",
       "      <th>num_years_antig</th>\n",
       "      <th>origin_up</th>\n",
       "      <th>pow_max</th>\n",
       "      <th>churn</th>\n",
       "    </tr>\n",
       "  </thead>\n",
       "  <tbody>\n",
       "    <tr>\n",
       "      <th>0</th>\n",
       "      <td>24011ae4ebbe3035111d65fa7c15bc57</td>\n",
       "      <td>foosdfpfkusacimwkcsosbicdxkicaua</td>\n",
       "      <td>0</td>\n",
       "      <td>54946</td>\n",
       "      <td>0</td>\n",
       "      <td>2013-06-15</td>\n",
       "      <td>2016-06-15</td>\n",
       "      <td>2015-11-01</td>\n",
       "      <td>2015-06-23</td>\n",
       "      <td>0.00</td>\n",
       "      <td>...</td>\n",
       "      <td>t</td>\n",
       "      <td>0.00</td>\n",
       "      <td>25.44</td>\n",
       "      <td>25.44</td>\n",
       "      <td>2</td>\n",
       "      <td>678.99</td>\n",
       "      <td>3</td>\n",
       "      <td>lxidpiddsbxsbosboudacockeimpuepw</td>\n",
       "      <td>43.648</td>\n",
       "      <td>1</td>\n",
       "    </tr>\n",
       "    <tr>\n",
       "      <th>1</th>\n",
       "      <td>d29c2c54acc38ff3c0614d0a653813dd</td>\n",
       "      <td>MISSING</td>\n",
       "      <td>4660</td>\n",
       "      <td>0</td>\n",
       "      <td>0</td>\n",
       "      <td>2009-08-21</td>\n",
       "      <td>2016-08-30</td>\n",
       "      <td>2009-08-21</td>\n",
       "      <td>2015-08-31</td>\n",
       "      <td>189.95</td>\n",
       "      <td>...</td>\n",
       "      <td>f</td>\n",
       "      <td>0.00</td>\n",
       "      <td>16.38</td>\n",
       "      <td>16.38</td>\n",
       "      <td>1</td>\n",
       "      <td>18.89</td>\n",
       "      <td>6</td>\n",
       "      <td>kamkkxfxxuwbdslkwifmmcsiusiuosws</td>\n",
       "      <td>13.800</td>\n",
       "      <td>0</td>\n",
       "    </tr>\n",
       "    <tr>\n",
       "      <th>2</th>\n",
       "      <td>764c75f661154dac3a6c254cd082ea7d</td>\n",
       "      <td>foosdfpfkusacimwkcsosbicdxkicaua</td>\n",
       "      <td>544</td>\n",
       "      <td>0</td>\n",
       "      <td>0</td>\n",
       "      <td>2010-04-16</td>\n",
       "      <td>2016-04-16</td>\n",
       "      <td>2010-04-16</td>\n",
       "      <td>2015-04-17</td>\n",
       "      <td>47.96</td>\n",
       "      <td>...</td>\n",
       "      <td>f</td>\n",
       "      <td>0.00</td>\n",
       "      <td>28.60</td>\n",
       "      <td>28.60</td>\n",
       "      <td>1</td>\n",
       "      <td>6.60</td>\n",
       "      <td>6</td>\n",
       "      <td>kamkkxfxxuwbdslkwifmmcsiusiuosws</td>\n",
       "      <td>13.856</td>\n",
       "      <td>0</td>\n",
       "    </tr>\n",
       "    <tr>\n",
       "      <th>3</th>\n",
       "      <td>bba03439a292a1e166f80264c16191cb</td>\n",
       "      <td>lmkebamcaaclubfxadlmueccxoimlema</td>\n",
       "      <td>1584</td>\n",
       "      <td>0</td>\n",
       "      <td>0</td>\n",
       "      <td>2010-03-30</td>\n",
       "      <td>2016-03-30</td>\n",
       "      <td>2010-03-30</td>\n",
       "      <td>2015-03-31</td>\n",
       "      <td>240.04</td>\n",
       "      <td>...</td>\n",
       "      <td>f</td>\n",
       "      <td>0.00</td>\n",
       "      <td>30.22</td>\n",
       "      <td>30.22</td>\n",
       "      <td>1</td>\n",
       "      <td>25.46</td>\n",
       "      <td>6</td>\n",
       "      <td>kamkkxfxxuwbdslkwifmmcsiusiuosws</td>\n",
       "      <td>13.200</td>\n",
       "      <td>0</td>\n",
       "    </tr>\n",
       "    <tr>\n",
       "      <th>4</th>\n",
       "      <td>149d57cf92fc41cf94415803a877cb4b</td>\n",
       "      <td>MISSING</td>\n",
       "      <td>4425</td>\n",
       "      <td>0</td>\n",
       "      <td>526</td>\n",
       "      <td>2010-01-13</td>\n",
       "      <td>2016-03-07</td>\n",
       "      <td>2010-01-13</td>\n",
       "      <td>2015-03-09</td>\n",
       "      <td>445.75</td>\n",
       "      <td>...</td>\n",
       "      <td>f</td>\n",
       "      <td>52.32</td>\n",
       "      <td>44.91</td>\n",
       "      <td>44.91</td>\n",
       "      <td>1</td>\n",
       "      <td>47.98</td>\n",
       "      <td>6</td>\n",
       "      <td>kamkkxfxxuwbdslkwifmmcsiusiuosws</td>\n",
       "      <td>19.800</td>\n",
       "      <td>0</td>\n",
       "    </tr>\n",
       "  </tbody>\n",
       "</table>\n",
       "<p>5 rows × 26 columns</p>\n",
       "</div>"
      ],
      "text/plain": [
       "                                 id                     channel_sales   \n",
       "0  24011ae4ebbe3035111d65fa7c15bc57  foosdfpfkusacimwkcsosbicdxkicaua  \\\n",
       "1  d29c2c54acc38ff3c0614d0a653813dd                           MISSING   \n",
       "2  764c75f661154dac3a6c254cd082ea7d  foosdfpfkusacimwkcsosbicdxkicaua   \n",
       "3  bba03439a292a1e166f80264c16191cb  lmkebamcaaclubfxadlmueccxoimlema   \n",
       "4  149d57cf92fc41cf94415803a877cb4b                           MISSING   \n",
       "\n",
       "   cons_12m  cons_gas_12m  cons_last_month  date_activ    date_end   \n",
       "0         0         54946                0  2013-06-15  2016-06-15  \\\n",
       "1      4660             0                0  2009-08-21  2016-08-30   \n",
       "2       544             0                0  2010-04-16  2016-04-16   \n",
       "3      1584             0                0  2010-03-30  2016-03-30   \n",
       "4      4425             0              526  2010-01-13  2016-03-07   \n",
       "\n",
       "  date_modif_prod date_renewal  forecast_cons_12m  ...  has_gas  imp_cons   \n",
       "0      2015-11-01   2015-06-23               0.00  ...        t      0.00  \\\n",
       "1      2009-08-21   2015-08-31             189.95  ...        f      0.00   \n",
       "2      2010-04-16   2015-04-17              47.96  ...        f      0.00   \n",
       "3      2010-03-30   2015-03-31             240.04  ...        f      0.00   \n",
       "4      2010-01-13   2015-03-09             445.75  ...        f     52.32   \n",
       "\n",
       "   margin_gross_pow_ele  margin_net_pow_ele  nb_prod_act  net_margin   \n",
       "0                 25.44               25.44            2      678.99  \\\n",
       "1                 16.38               16.38            1       18.89   \n",
       "2                 28.60               28.60            1        6.60   \n",
       "3                 30.22               30.22            1       25.46   \n",
       "4                 44.91               44.91            1       47.98   \n",
       "\n",
       "  num_years_antig                         origin_up  pow_max  churn  \n",
       "0               3  lxidpiddsbxsbosboudacockeimpuepw   43.648      1  \n",
       "1               6  kamkkxfxxuwbdslkwifmmcsiusiuosws   13.800      0  \n",
       "2               6  kamkkxfxxuwbdslkwifmmcsiusiuosws   13.856      0  \n",
       "3               6  kamkkxfxxuwbdslkwifmmcsiusiuosws   13.200      0  \n",
       "4               6  kamkkxfxxuwbdslkwifmmcsiusiuosws   19.800      0  \n",
       "\n",
       "[5 rows x 26 columns]"
      ]
     },
     "execution_count": 24,
     "metadata": {},
     "output_type": "execute_result"
    }
   ],
   "source": [
    "client_df.head() "
   ]
  },
  {
   "cell_type": "code",
   "execution_count": 6,
   "id": "2654a02d-8cf3-4a18-903e-b4f7f95d8e9e",
   "metadata": {},
   "outputs": [
    {
     "data": {
      "text/html": [
       "<div>\n",
       "<style scoped>\n",
       "    .dataframe tbody tr th:only-of-type {\n",
       "        vertical-align: middle;\n",
       "    }\n",
       "\n",
       "    .dataframe tbody tr th {\n",
       "        vertical-align: top;\n",
       "    }\n",
       "\n",
       "    .dataframe thead th {\n",
       "        text-align: right;\n",
       "    }\n",
       "</style>\n",
       "<table border=\"1\" class=\"dataframe\">\n",
       "  <thead>\n",
       "    <tr style=\"text-align: right;\">\n",
       "      <th></th>\n",
       "      <th>id</th>\n",
       "      <th>price_date</th>\n",
       "      <th>price_off_peak_var</th>\n",
       "      <th>price_peak_var</th>\n",
       "      <th>price_mid_peak_var</th>\n",
       "      <th>price_off_peak_fix</th>\n",
       "      <th>price_peak_fix</th>\n",
       "      <th>price_mid_peak_fix</th>\n",
       "    </tr>\n",
       "  </thead>\n",
       "  <tbody>\n",
       "    <tr>\n",
       "      <th>0</th>\n",
       "      <td>038af19179925da21a25619c5a24b745</td>\n",
       "      <td>2015-01-01</td>\n",
       "      <td>0.151367</td>\n",
       "      <td>0.0</td>\n",
       "      <td>0.0</td>\n",
       "      <td>44.266931</td>\n",
       "      <td>0.0</td>\n",
       "      <td>0.0</td>\n",
       "    </tr>\n",
       "    <tr>\n",
       "      <th>1</th>\n",
       "      <td>038af19179925da21a25619c5a24b745</td>\n",
       "      <td>2015-02-01</td>\n",
       "      <td>0.151367</td>\n",
       "      <td>0.0</td>\n",
       "      <td>0.0</td>\n",
       "      <td>44.266931</td>\n",
       "      <td>0.0</td>\n",
       "      <td>0.0</td>\n",
       "    </tr>\n",
       "    <tr>\n",
       "      <th>2</th>\n",
       "      <td>038af19179925da21a25619c5a24b745</td>\n",
       "      <td>2015-03-01</td>\n",
       "      <td>0.151367</td>\n",
       "      <td>0.0</td>\n",
       "      <td>0.0</td>\n",
       "      <td>44.266931</td>\n",
       "      <td>0.0</td>\n",
       "      <td>0.0</td>\n",
       "    </tr>\n",
       "  </tbody>\n",
       "</table>\n",
       "</div>"
      ],
      "text/plain": [
       "                                 id  price_date  price_off_peak_var   \n",
       "0  038af19179925da21a25619c5a24b745  2015-01-01            0.151367  \\\n",
       "1  038af19179925da21a25619c5a24b745  2015-02-01            0.151367   \n",
       "2  038af19179925da21a25619c5a24b745  2015-03-01            0.151367   \n",
       "\n",
       "   price_peak_var  price_mid_peak_var  price_off_peak_fix  price_peak_fix   \n",
       "0             0.0                 0.0           44.266931             0.0  \\\n",
       "1             0.0                 0.0           44.266931             0.0   \n",
       "2             0.0                 0.0           44.266931             0.0   \n",
       "\n",
       "   price_mid_peak_fix  \n",
       "0                 0.0  \n",
       "1                 0.0  \n",
       "2                 0.0  "
      ]
     },
     "execution_count": 6,
     "metadata": {},
     "output_type": "execute_result"
    }
   ],
   "source": [
    "price_df.head(3)"
   ]
  },
  {
   "cell_type": "markdown",
   "id": "966c3948-41c0-4183-9118-dd665c58a93c",
   "metadata": {},
   "source": [
    "---\n",
    "\n",
    "## Descriptive statistics of data\n",
    "\n",
    "### Data types\n",
    "\n",
    "It is useful to first understand the data that you're dealing with along with the data types of each column. The data types may dictate how you transform and engineer features.\n",
    "\n",
    "To get an overview of the data types within a data frame, use the `info()` method."
   ]
  },
  {
   "cell_type": "code",
   "execution_count": 7,
   "id": "2dc75b07-c286-4852-bc33-e501782e67d9",
   "metadata": {},
   "outputs": [
    {
     "name": "stdout",
     "output_type": "stream",
     "text": [
      "<class 'pandas.core.frame.DataFrame'>\n",
      "RangeIndex: 14606 entries, 0 to 14605\n",
      "Data columns (total 26 columns):\n",
      " #   Column                          Non-Null Count  Dtype  \n",
      "---  ------                          --------------  -----  \n",
      " 0   id                              14606 non-null  object \n",
      " 1   channel_sales                   14606 non-null  object \n",
      " 2   cons_12m                        14606 non-null  int64  \n",
      " 3   cons_gas_12m                    14606 non-null  int64  \n",
      " 4   cons_last_month                 14606 non-null  int64  \n",
      " 5   date_activ                      14606 non-null  object \n",
      " 6   date_end                        14606 non-null  object \n",
      " 7   date_modif_prod                 14606 non-null  object \n",
      " 8   date_renewal                    14606 non-null  object \n",
      " 9   forecast_cons_12m               14606 non-null  float64\n",
      " 10  forecast_cons_year              14606 non-null  int64  \n",
      " 11  forecast_discount_energy        14606 non-null  float64\n",
      " 12  forecast_meter_rent_12m         14606 non-null  float64\n",
      " 13  forecast_price_energy_off_peak  14606 non-null  float64\n",
      " 14  forecast_price_energy_peak      14606 non-null  float64\n",
      " 15  forecast_price_pow_off_peak     14606 non-null  float64\n",
      " 16  has_gas                         14606 non-null  object \n",
      " 17  imp_cons                        14606 non-null  float64\n",
      " 18  margin_gross_pow_ele            14606 non-null  float64\n",
      " 19  margin_net_pow_ele              14606 non-null  float64\n",
      " 20  nb_prod_act                     14606 non-null  int64  \n",
      " 21  net_margin                      14606 non-null  float64\n",
      " 22  num_years_antig                 14606 non-null  int64  \n",
      " 23  origin_up                       14606 non-null  object \n",
      " 24  pow_max                         14606 non-null  float64\n",
      " 25  churn                           14606 non-null  int64  \n",
      "dtypes: float64(11), int64(7), object(8)\n",
      "memory usage: 2.9+ MB\n"
     ]
    }
   ],
   "source": [
    "client_df.info()"
   ]
  },
  {
   "cell_type": "code",
   "execution_count": 8,
   "id": "b67f2628-351a-48ee-b8ba-88c54042af88",
   "metadata": {},
   "outputs": [
    {
     "name": "stdout",
     "output_type": "stream",
     "text": [
      "<class 'pandas.core.frame.DataFrame'>\n",
      "RangeIndex: 193002 entries, 0 to 193001\n",
      "Data columns (total 8 columns):\n",
      " #   Column              Non-Null Count   Dtype  \n",
      "---  ------              --------------   -----  \n",
      " 0   id                  193002 non-null  object \n",
      " 1   price_date          193002 non-null  object \n",
      " 2   price_off_peak_var  193002 non-null  float64\n",
      " 3   price_peak_var      193002 non-null  float64\n",
      " 4   price_mid_peak_var  193002 non-null  float64\n",
      " 5   price_off_peak_fix  193002 non-null  float64\n",
      " 6   price_peak_fix      193002 non-null  float64\n",
      " 7   price_mid_peak_fix  193002 non-null  float64\n",
      "dtypes: float64(6), object(2)\n",
      "memory usage: 11.8+ MB\n"
     ]
    }
   ],
   "source": [
    "price_df.info()"
   ]
  },
  {
   "cell_type": "markdown",
   "id": "3d7e80c5-ef07-47a7-908a-a081b3ebd09e",
   "metadata": {},
   "source": [
    "### Statistics\n",
    "\n",
    "Now let's look at some statistics about the datasets. We can do this by using the `describe()` method."
   ]
  },
  {
   "cell_type": "code",
   "execution_count": 7,
   "id": "60f3010c-ecaf-4b8a-bb87-93bb54cc0c7e",
   "metadata": {},
   "outputs": [
    {
     "data": {
      "text/html": [
       "<div>\n",
       "<style scoped>\n",
       "    .dataframe tbody tr th:only-of-type {\n",
       "        vertical-align: middle;\n",
       "    }\n",
       "\n",
       "    .dataframe tbody tr th {\n",
       "        vertical-align: top;\n",
       "    }\n",
       "\n",
       "    .dataframe thead th {\n",
       "        text-align: right;\n",
       "    }\n",
       "</style>\n",
       "<table border=\"1\" class=\"dataframe\">\n",
       "  <thead>\n",
       "    <tr style=\"text-align: right;\">\n",
       "      <th></th>\n",
       "      <th>cons_12m</th>\n",
       "      <th>cons_gas_12m</th>\n",
       "      <th>cons_last_month</th>\n",
       "      <th>forecast_cons_12m</th>\n",
       "      <th>forecast_cons_year</th>\n",
       "      <th>forecast_discount_energy</th>\n",
       "      <th>forecast_meter_rent_12m</th>\n",
       "      <th>forecast_price_energy_p1</th>\n",
       "      <th>forecast_price_energy_p2</th>\n",
       "      <th>forecast_price_pow_p1</th>\n",
       "      <th>imp_cons</th>\n",
       "      <th>margin_gross_pow_ele</th>\n",
       "      <th>margin_net_pow_ele</th>\n",
       "      <th>nb_prod_act</th>\n",
       "      <th>net_margin</th>\n",
       "      <th>num_years_antig</th>\n",
       "      <th>pow_max</th>\n",
       "      <th>churn</th>\n",
       "    </tr>\n",
       "  </thead>\n",
       "  <tbody>\n",
       "    <tr>\n",
       "      <th>count</th>\n",
       "      <td>1.460600e+04</td>\n",
       "      <td>1.460600e+04</td>\n",
       "      <td>14606.000000</td>\n",
       "      <td>14606.000000</td>\n",
       "      <td>14606.000000</td>\n",
       "      <td>14606.000000</td>\n",
       "      <td>14606.000000</td>\n",
       "      <td>14606.000000</td>\n",
       "      <td>14606.000000</td>\n",
       "      <td>14606.000000</td>\n",
       "      <td>14606.000000</td>\n",
       "      <td>14606.000000</td>\n",
       "      <td>14606.000000</td>\n",
       "      <td>14606.000000</td>\n",
       "      <td>14606.000000</td>\n",
       "      <td>14606.000000</td>\n",
       "      <td>14606.000000</td>\n",
       "      <td>14606.000000</td>\n",
       "    </tr>\n",
       "    <tr>\n",
       "      <th>mean</th>\n",
       "      <td>1.592203e+05</td>\n",
       "      <td>2.809238e+04</td>\n",
       "      <td>16090.269752</td>\n",
       "      <td>1868.614880</td>\n",
       "      <td>1399.762906</td>\n",
       "      <td>0.966726</td>\n",
       "      <td>63.086871</td>\n",
       "      <td>0.137283</td>\n",
       "      <td>0.050491</td>\n",
       "      <td>43.130056</td>\n",
       "      <td>152.786896</td>\n",
       "      <td>24.565121</td>\n",
       "      <td>24.562517</td>\n",
       "      <td>1.292346</td>\n",
       "      <td>189.264522</td>\n",
       "      <td>4.997809</td>\n",
       "      <td>18.135136</td>\n",
       "      <td>0.097152</td>\n",
       "    </tr>\n",
       "    <tr>\n",
       "      <th>std</th>\n",
       "      <td>5.734653e+05</td>\n",
       "      <td>1.629731e+05</td>\n",
       "      <td>64364.196422</td>\n",
       "      <td>2387.571531</td>\n",
       "      <td>3247.786255</td>\n",
       "      <td>5.108289</td>\n",
       "      <td>66.165783</td>\n",
       "      <td>0.024623</td>\n",
       "      <td>0.049037</td>\n",
       "      <td>4.485988</td>\n",
       "      <td>341.369366</td>\n",
       "      <td>20.231172</td>\n",
       "      <td>20.230280</td>\n",
       "      <td>0.709774</td>\n",
       "      <td>311.798130</td>\n",
       "      <td>1.611749</td>\n",
       "      <td>13.534743</td>\n",
       "      <td>0.296175</td>\n",
       "    </tr>\n",
       "    <tr>\n",
       "      <th>min</th>\n",
       "      <td>0.000000e+00</td>\n",
       "      <td>0.000000e+00</td>\n",
       "      <td>0.000000</td>\n",
       "      <td>0.000000</td>\n",
       "      <td>0.000000</td>\n",
       "      <td>0.000000</td>\n",
       "      <td>0.000000</td>\n",
       "      <td>0.000000</td>\n",
       "      <td>0.000000</td>\n",
       "      <td>0.000000</td>\n",
       "      <td>0.000000</td>\n",
       "      <td>0.000000</td>\n",
       "      <td>0.000000</td>\n",
       "      <td>1.000000</td>\n",
       "      <td>0.000000</td>\n",
       "      <td>1.000000</td>\n",
       "      <td>3.300000</td>\n",
       "      <td>0.000000</td>\n",
       "    </tr>\n",
       "    <tr>\n",
       "      <th>25%</th>\n",
       "      <td>5.674750e+03</td>\n",
       "      <td>0.000000e+00</td>\n",
       "      <td>0.000000</td>\n",
       "      <td>494.995000</td>\n",
       "      <td>0.000000</td>\n",
       "      <td>0.000000</td>\n",
       "      <td>16.180000</td>\n",
       "      <td>0.116340</td>\n",
       "      <td>0.000000</td>\n",
       "      <td>40.606701</td>\n",
       "      <td>0.000000</td>\n",
       "      <td>14.280000</td>\n",
       "      <td>14.280000</td>\n",
       "      <td>1.000000</td>\n",
       "      <td>50.712500</td>\n",
       "      <td>4.000000</td>\n",
       "      <td>12.500000</td>\n",
       "      <td>0.000000</td>\n",
       "    </tr>\n",
       "    <tr>\n",
       "      <th>50%</th>\n",
       "      <td>1.411550e+04</td>\n",
       "      <td>0.000000e+00</td>\n",
       "      <td>792.500000</td>\n",
       "      <td>1112.875000</td>\n",
       "      <td>314.000000</td>\n",
       "      <td>0.000000</td>\n",
       "      <td>18.795000</td>\n",
       "      <td>0.143166</td>\n",
       "      <td>0.084138</td>\n",
       "      <td>44.311378</td>\n",
       "      <td>37.395000</td>\n",
       "      <td>21.640000</td>\n",
       "      <td>21.640000</td>\n",
       "      <td>1.000000</td>\n",
       "      <td>112.530000</td>\n",
       "      <td>5.000000</td>\n",
       "      <td>13.856000</td>\n",
       "      <td>0.000000</td>\n",
       "    </tr>\n",
       "    <tr>\n",
       "      <th>75%</th>\n",
       "      <td>4.076375e+04</td>\n",
       "      <td>0.000000e+00</td>\n",
       "      <td>3383.000000</td>\n",
       "      <td>2401.790000</td>\n",
       "      <td>1745.750000</td>\n",
       "      <td>0.000000</td>\n",
       "      <td>131.030000</td>\n",
       "      <td>0.146348</td>\n",
       "      <td>0.098837</td>\n",
       "      <td>44.311378</td>\n",
       "      <td>193.980000</td>\n",
       "      <td>29.880000</td>\n",
       "      <td>29.880000</td>\n",
       "      <td>1.000000</td>\n",
       "      <td>243.097500</td>\n",
       "      <td>6.000000</td>\n",
       "      <td>19.172500</td>\n",
       "      <td>0.000000</td>\n",
       "    </tr>\n",
       "    <tr>\n",
       "      <th>max</th>\n",
       "      <td>6.207104e+06</td>\n",
       "      <td>4.154590e+06</td>\n",
       "      <td>771203.000000</td>\n",
       "      <td>82902.830000</td>\n",
       "      <td>175375.000000</td>\n",
       "      <td>30.000000</td>\n",
       "      <td>599.310000</td>\n",
       "      <td>0.273963</td>\n",
       "      <td>0.195975</td>\n",
       "      <td>59.266378</td>\n",
       "      <td>15042.790000</td>\n",
       "      <td>374.640000</td>\n",
       "      <td>374.640000</td>\n",
       "      <td>32.000000</td>\n",
       "      <td>24570.650000</td>\n",
       "      <td>13.000000</td>\n",
       "      <td>320.000000</td>\n",
       "      <td>1.000000</td>\n",
       "    </tr>\n",
       "  </tbody>\n",
       "</table>\n",
       "</div>"
      ],
      "text/plain": [
       "           cons_12m  cons_gas_12m  cons_last_month  forecast_cons_12m  \\\n",
       "count  1.460600e+04  1.460600e+04     14606.000000       14606.000000   \n",
       "mean   1.592203e+05  2.809238e+04     16090.269752        1868.614880   \n",
       "std    5.734653e+05  1.629731e+05     64364.196422        2387.571531   \n",
       "min    0.000000e+00  0.000000e+00         0.000000           0.000000   \n",
       "25%    5.674750e+03  0.000000e+00         0.000000         494.995000   \n",
       "50%    1.411550e+04  0.000000e+00       792.500000        1112.875000   \n",
       "75%    4.076375e+04  0.000000e+00      3383.000000        2401.790000   \n",
       "max    6.207104e+06  4.154590e+06    771203.000000       82902.830000   \n",
       "\n",
       "       forecast_cons_year  forecast_discount_energy  forecast_meter_rent_12m  \\\n",
       "count        14606.000000              14606.000000             14606.000000   \n",
       "mean          1399.762906                  0.966726                63.086871   \n",
       "std           3247.786255                  5.108289                66.165783   \n",
       "min              0.000000                  0.000000                 0.000000   \n",
       "25%              0.000000                  0.000000                16.180000   \n",
       "50%            314.000000                  0.000000                18.795000   \n",
       "75%           1745.750000                  0.000000               131.030000   \n",
       "max         175375.000000                 30.000000               599.310000   \n",
       "\n",
       "       forecast_price_energy_p1  forecast_price_energy_p2  \\\n",
       "count              14606.000000              14606.000000   \n",
       "mean                   0.137283                  0.050491   \n",
       "std                    0.024623                  0.049037   \n",
       "min                    0.000000                  0.000000   \n",
       "25%                    0.116340                  0.000000   \n",
       "50%                    0.143166                  0.084138   \n",
       "75%                    0.146348                  0.098837   \n",
       "max                    0.273963                  0.195975   \n",
       "\n",
       "       forecast_price_pow_p1      imp_cons  margin_gross_pow_ele  \\\n",
       "count           14606.000000  14606.000000          14606.000000   \n",
       "mean               43.130056    152.786896             24.565121   \n",
       "std                 4.485988    341.369366             20.231172   \n",
       "min                 0.000000      0.000000              0.000000   \n",
       "25%                40.606701      0.000000             14.280000   \n",
       "50%                44.311378     37.395000             21.640000   \n",
       "75%                44.311378    193.980000             29.880000   \n",
       "max                59.266378  15042.790000            374.640000   \n",
       "\n",
       "       margin_net_pow_ele   nb_prod_act    net_margin  num_years_antig  \\\n",
       "count        14606.000000  14606.000000  14606.000000     14606.000000   \n",
       "mean            24.562517      1.292346    189.264522         4.997809   \n",
       "std             20.230280      0.709774    311.798130         1.611749   \n",
       "min              0.000000      1.000000      0.000000         1.000000   \n",
       "25%             14.280000      1.000000     50.712500         4.000000   \n",
       "50%             21.640000      1.000000    112.530000         5.000000   \n",
       "75%             29.880000      1.000000    243.097500         6.000000   \n",
       "max            374.640000     32.000000  24570.650000        13.000000   \n",
       "\n",
       "            pow_max         churn  \n",
       "count  14606.000000  14606.000000  \n",
       "mean      18.135136      0.097152  \n",
       "std       13.534743      0.296175  \n",
       "min        3.300000      0.000000  \n",
       "25%       12.500000      0.000000  \n",
       "50%       13.856000      0.000000  \n",
       "75%       19.172500      0.000000  \n",
       "max      320.000000      1.000000  "
      ]
     },
     "execution_count": 7,
     "metadata": {},
     "output_type": "execute_result"
    }
   ],
   "source": [
    "client_df.describe()"
   ]
  },
  {
   "cell_type": "code",
   "execution_count": null,
   "id": "b0258d8b",
   "metadata": {},
   "outputs": [],
   "source": []
  },
  {
   "cell_type": "code",
   "execution_count": 8,
   "id": "f8b442e6-e186-42f9-b3c5-c5c15cd8c82a",
   "metadata": {
    "scrolled": true
   },
   "outputs": [
    {
     "data": {
      "text/html": [
       "<div>\n",
       "<style scoped>\n",
       "    .dataframe tbody tr th:only-of-type {\n",
       "        vertical-align: middle;\n",
       "    }\n",
       "\n",
       "    .dataframe tbody tr th {\n",
       "        vertical-align: top;\n",
       "    }\n",
       "\n",
       "    .dataframe thead th {\n",
       "        text-align: right;\n",
       "    }\n",
       "</style>\n",
       "<table border=\"1\" class=\"dataframe\">\n",
       "  <thead>\n",
       "    <tr style=\"text-align: right;\">\n",
       "      <th></th>\n",
       "      <th>price_off_peak_var</th>\n",
       "      <th>price_peak_var</th>\n",
       "      <th>price_mid_peak_var</th>\n",
       "      <th>price_off_peak_fix</th>\n",
       "      <th>price_peak_fix</th>\n",
       "      <th>price_mid_peak_fix</th>\n",
       "    </tr>\n",
       "  </thead>\n",
       "  <tbody>\n",
       "    <tr>\n",
       "      <th>count</th>\n",
       "      <td>193002.000000</td>\n",
       "      <td>193002.000000</td>\n",
       "      <td>193002.000000</td>\n",
       "      <td>193002.000000</td>\n",
       "      <td>193002.000000</td>\n",
       "      <td>193002.000000</td>\n",
       "    </tr>\n",
       "    <tr>\n",
       "      <th>mean</th>\n",
       "      <td>0.141027</td>\n",
       "      <td>0.054630</td>\n",
       "      <td>0.030496</td>\n",
       "      <td>43.334477</td>\n",
       "      <td>10.622875</td>\n",
       "      <td>6.409984</td>\n",
       "    </tr>\n",
       "    <tr>\n",
       "      <th>std</th>\n",
       "      <td>0.025032</td>\n",
       "      <td>0.049924</td>\n",
       "      <td>0.036298</td>\n",
       "      <td>5.410297</td>\n",
       "      <td>12.841895</td>\n",
       "      <td>7.773592</td>\n",
       "    </tr>\n",
       "    <tr>\n",
       "      <th>min</th>\n",
       "      <td>0.000000</td>\n",
       "      <td>0.000000</td>\n",
       "      <td>0.000000</td>\n",
       "      <td>0.000000</td>\n",
       "      <td>0.000000</td>\n",
       "      <td>0.000000</td>\n",
       "    </tr>\n",
       "    <tr>\n",
       "      <th>25%</th>\n",
       "      <td>0.125976</td>\n",
       "      <td>0.000000</td>\n",
       "      <td>0.000000</td>\n",
       "      <td>40.728885</td>\n",
       "      <td>0.000000</td>\n",
       "      <td>0.000000</td>\n",
       "    </tr>\n",
       "    <tr>\n",
       "      <th>50%</th>\n",
       "      <td>0.146033</td>\n",
       "      <td>0.085483</td>\n",
       "      <td>0.000000</td>\n",
       "      <td>44.266930</td>\n",
       "      <td>0.000000</td>\n",
       "      <td>0.000000</td>\n",
       "    </tr>\n",
       "    <tr>\n",
       "      <th>75%</th>\n",
       "      <td>0.151635</td>\n",
       "      <td>0.101673</td>\n",
       "      <td>0.072558</td>\n",
       "      <td>44.444710</td>\n",
       "      <td>24.339581</td>\n",
       "      <td>16.226389</td>\n",
       "    </tr>\n",
       "    <tr>\n",
       "      <th>max</th>\n",
       "      <td>0.280700</td>\n",
       "      <td>0.229788</td>\n",
       "      <td>0.114102</td>\n",
       "      <td>59.444710</td>\n",
       "      <td>36.490692</td>\n",
       "      <td>17.458221</td>\n",
       "    </tr>\n",
       "  </tbody>\n",
       "</table>\n",
       "</div>"
      ],
      "text/plain": [
       "       price_off_peak_var  price_peak_var  price_mid_peak_var  \\\n",
       "count       193002.000000   193002.000000       193002.000000   \n",
       "mean             0.141027        0.054630            0.030496   \n",
       "std              0.025032        0.049924            0.036298   \n",
       "min              0.000000        0.000000            0.000000   \n",
       "25%              0.125976        0.000000            0.000000   \n",
       "50%              0.146033        0.085483            0.000000   \n",
       "75%              0.151635        0.101673            0.072558   \n",
       "max              0.280700        0.229788            0.114102   \n",
       "\n",
       "       price_off_peak_fix  price_peak_fix  price_mid_peak_fix  \n",
       "count       193002.000000   193002.000000       193002.000000  \n",
       "mean            43.334477       10.622875            6.409984  \n",
       "std              5.410297       12.841895            7.773592  \n",
       "min              0.000000        0.000000            0.000000  \n",
       "25%             40.728885        0.000000            0.000000  \n",
       "50%             44.266930        0.000000            0.000000  \n",
       "75%             44.444710       24.339581           16.226389  \n",
       "max             59.444710       36.490692           17.458221  "
      ]
     },
     "execution_count": 8,
     "metadata": {},
     "output_type": "execute_result"
    }
   ],
   "source": [
    "price_df.describe()"
   ]
  },
  {
   "cell_type": "markdown",
   "id": "6e9b4d3f",
   "metadata": {},
   "source": [
    "### Check for missing values"
   ]
  },
  {
   "cell_type": "code",
   "execution_count": 16,
   "id": "25e8dc8e",
   "metadata": {},
   "outputs": [
    {
     "data": {
      "text/plain": [
       "id                                0\n",
       "channel_sales                     0\n",
       "cons_12m                          0\n",
       "cons_gas_12m                      0\n",
       "cons_last_month                   0\n",
       "date_activ                        0\n",
       "date_end                          0\n",
       "date_modif_prod                   0\n",
       "date_renewal                      0\n",
       "forecast_cons_12m                 0\n",
       "forecast_cons_year                0\n",
       "forecast_discount_energy          0\n",
       "forecast_meter_rent_12m           0\n",
       "forecast_price_energy_off_peak    0\n",
       "forecast_price_energy_peak        0\n",
       "forecast_price_pow_off_peak       0\n",
       "has_gas                           0\n",
       "imp_cons                          0\n",
       "margin_gross_pow_ele              0\n",
       "margin_net_pow_ele                0\n",
       "nb_prod_act                       0\n",
       "net_margin                        0\n",
       "num_years_antig                   0\n",
       "origin_up                         0\n",
       "pow_max                           0\n",
       "churn                             0\n",
       "dtype: int64"
      ]
     },
     "execution_count": 16,
     "metadata": {},
     "output_type": "execute_result"
    }
   ],
   "source": [
    "client_df.isna().sum()"
   ]
  },
  {
   "cell_type": "code",
   "execution_count": 15,
   "id": "534ea00f",
   "metadata": {
    "scrolled": true
   },
   "outputs": [
    {
     "data": {
      "text/plain": [
       "id                    0\n",
       "price_date            0\n",
       "price_off_peak_var    0\n",
       "price_peak_var        0\n",
       "price_mid_peak_var    0\n",
       "price_off_peak_fix    0\n",
       "price_peak_fix        0\n",
       "price_mid_peak_fix    0\n",
       "dtype: int64"
      ]
     },
     "execution_count": 15,
     "metadata": {},
     "output_type": "execute_result"
    }
   ],
   "source": [
    "price_df.isna().sum()"
   ]
  },
  {
   "cell_type": "markdown",
   "id": "43be9ebc",
   "metadata": {},
   "source": [
    "### Find the size of column and rows"
   ]
  },
  {
   "cell_type": "code",
   "execution_count": 19,
   "id": "1825d7f0",
   "metadata": {},
   "outputs": [
    {
     "data": {
      "text/plain": [
       "(14606, 26)"
      ]
     },
     "execution_count": 19,
     "metadata": {},
     "output_type": "execute_result"
    }
   ],
   "source": [
    "client_df.shape"
   ]
  },
  {
   "cell_type": "markdown",
   "id": "892bdc10",
   "metadata": {},
   "source": [
    "The output shows that there are 14606 rows and 26 columns"
   ]
  },
  {
   "cell_type": "code",
   "execution_count": 20,
   "id": "b5ace21f",
   "metadata": {},
   "outputs": [
    {
     "data": {
      "text/plain": [
       "(193002, 8)"
      ]
     },
     "execution_count": 20,
     "metadata": {},
     "output_type": "execute_result"
    }
   ],
   "source": [
    "price_df.shape"
   ]
  },
  {
   "cell_type": "markdown",
   "id": "72ae3f23",
   "metadata": {},
   "source": [
    "The output shows that there are 193002 rows and 8 columns"
   ]
  },
  {
   "cell_type": "markdown",
   "id": "e1d3eed1",
   "metadata": {},
   "source": [
    "### shows the total number of unique values the whole dataframe\n"
   ]
  },
  {
   "cell_type": "code",
   "execution_count": 23,
   "id": "8b63c0fd",
   "metadata": {},
   "outputs": [
    {
     "data": {
      "text/plain": [
       "id                                14606\n",
       "channel_sales                         8\n",
       "cons_12m                          11065\n",
       "cons_gas_12m                       2112\n",
       "cons_last_month                    4751\n",
       "date_activ                         1796\n",
       "date_end                            368\n",
       "date_modif_prod                    2129\n",
       "date_renewal                        386\n",
       "forecast_cons_12m                 13993\n",
       "forecast_cons_year                 4218\n",
       "forecast_discount_energy             12\n",
       "forecast_meter_rent_12m            3528\n",
       "forecast_price_energy_off_peak      516\n",
       "forecast_price_energy_peak          329\n",
       "forecast_price_pow_off_peak          41\n",
       "has_gas                               2\n",
       "imp_cons                           7752\n",
       "margin_gross_pow_ele               2391\n",
       "margin_net_pow_ele                 2391\n",
       "nb_prod_act                          10\n",
       "net_margin                        11965\n",
       "num_years_antig                      13\n",
       "origin_up                             6\n",
       "pow_max                             698\n",
       "churn                                 2\n",
       "dtype: int64"
      ]
     },
     "execution_count": 23,
     "metadata": {},
     "output_type": "execute_result"
    }
   ],
   "source": [
    "client_df.nunique()"
   ]
  },
  {
   "cell_type": "code",
   "execution_count": 24,
   "id": "e9c14021",
   "metadata": {},
   "outputs": [
    {
     "data": {
      "text/plain": [
       "id                    16096\n",
       "price_date               12\n",
       "price_off_peak_var     1853\n",
       "price_peak_var         1189\n",
       "price_mid_peak_var      711\n",
       "price_off_peak_fix       66\n",
       "price_peak_fix           31\n",
       "price_mid_peak_fix       28\n",
       "dtype: int64"
      ]
     },
     "execution_count": 24,
     "metadata": {},
     "output_type": "execute_result"
    }
   ],
   "source": [
    "price_df.nunique()"
   ]
  },
  {
   "cell_type": "code",
   "execution_count": 23,
   "id": "ac5db042",
   "metadata": {},
   "outputs": [
    {
     "data": {
      "text/plain": [
       "Index(['id', 'channel_sales', 'cons_12m', 'cons_gas_12m', 'cons_last_month',\n",
       "       'date_activ', 'date_end', 'date_modif_prod', 'date_renewal',\n",
       "       'forecast_cons_12m', 'forecast_cons_year', 'forecast_discount_energy',\n",
       "       'forecast_meter_rent_12m', 'forecast_price_energy_off_peak',\n",
       "       'forecast_price_energy_peak', 'forecast_price_pow_off_peak', 'has_gas',\n",
       "       'imp_cons', 'margin_gross_pow_ele', 'margin_net_pow_ele', 'nb_prod_act',\n",
       "       'net_margin', 'num_years_antig', 'origin_up', 'pow_max', 'churn'],\n",
       "      dtype='object')"
      ]
     },
     "execution_count": 23,
     "metadata": {},
     "output_type": "execute_result"
    }
   ],
   "source": [
    "client_df.columns"
   ]
  },
  {
   "cell_type": "code",
   "execution_count": 10,
   "id": "a4338a09",
   "metadata": {},
   "outputs": [
    {
     "data": {
      "text/html": [
       "<div>\n",
       "<style scoped>\n",
       "    .dataframe tbody tr th:only-of-type {\n",
       "        vertical-align: middle;\n",
       "    }\n",
       "\n",
       "    .dataframe tbody tr th {\n",
       "        vertical-align: top;\n",
       "    }\n",
       "\n",
       "    .dataframe thead th {\n",
       "        text-align: right;\n",
       "    }\n",
       "</style>\n",
       "<table border=\"1\" class=\"dataframe\">\n",
       "  <thead>\n",
       "    <tr style=\"text-align: right;\">\n",
       "      <th></th>\n",
       "      <th>id</th>\n",
       "      <th>channel_sales</th>\n",
       "      <th>cons_12m</th>\n",
       "      <th>cons_gas_12m</th>\n",
       "      <th>cons_last_month</th>\n",
       "      <th>date_activ</th>\n",
       "      <th>date_end</th>\n",
       "      <th>date_modif_prod</th>\n",
       "      <th>date_renewal</th>\n",
       "      <th>forecast_cons_12m</th>\n",
       "      <th>...</th>\n",
       "      <th>has_gas</th>\n",
       "      <th>imp_cons</th>\n",
       "      <th>margin_gross_pow_ele</th>\n",
       "      <th>margin_net_pow_ele</th>\n",
       "      <th>nb_prod_act</th>\n",
       "      <th>net_margin</th>\n",
       "      <th>num_years_antig</th>\n",
       "      <th>origin_up</th>\n",
       "      <th>pow_max</th>\n",
       "      <th>churn</th>\n",
       "    </tr>\n",
       "  </thead>\n",
       "  <tbody>\n",
       "    <tr>\n",
       "      <th>0</th>\n",
       "      <td>24011ae4ebbe3035111d65fa7c15bc57</td>\n",
       "      <td>foosdfpfkusacimwkcsosbicdxkicaua</td>\n",
       "      <td>0</td>\n",
       "      <td>54946</td>\n",
       "      <td>0</td>\n",
       "      <td>2013-06-15</td>\n",
       "      <td>2016-06-15</td>\n",
       "      <td>2015-11-01</td>\n",
       "      <td>2015-06-23</td>\n",
       "      <td>0.00</td>\n",
       "      <td>...</td>\n",
       "      <td>t</td>\n",
       "      <td>0.00</td>\n",
       "      <td>25.44</td>\n",
       "      <td>25.44</td>\n",
       "      <td>2</td>\n",
       "      <td>678.99</td>\n",
       "      <td>3</td>\n",
       "      <td>lxidpiddsbxsbosboudacockeimpuepw</td>\n",
       "      <td>43.648</td>\n",
       "      <td>1</td>\n",
       "    </tr>\n",
       "    <tr>\n",
       "      <th>1</th>\n",
       "      <td>d29c2c54acc38ff3c0614d0a653813dd</td>\n",
       "      <td>MISSING</td>\n",
       "      <td>4660</td>\n",
       "      <td>0</td>\n",
       "      <td>0</td>\n",
       "      <td>2009-08-21</td>\n",
       "      <td>2016-08-30</td>\n",
       "      <td>2009-08-21</td>\n",
       "      <td>2015-08-31</td>\n",
       "      <td>189.95</td>\n",
       "      <td>...</td>\n",
       "      <td>f</td>\n",
       "      <td>0.00</td>\n",
       "      <td>16.38</td>\n",
       "      <td>16.38</td>\n",
       "      <td>1</td>\n",
       "      <td>18.89</td>\n",
       "      <td>6</td>\n",
       "      <td>kamkkxfxxuwbdslkwifmmcsiusiuosws</td>\n",
       "      <td>13.800</td>\n",
       "      <td>0</td>\n",
       "    </tr>\n",
       "    <tr>\n",
       "      <th>2</th>\n",
       "      <td>764c75f661154dac3a6c254cd082ea7d</td>\n",
       "      <td>foosdfpfkusacimwkcsosbicdxkicaua</td>\n",
       "      <td>544</td>\n",
       "      <td>0</td>\n",
       "      <td>0</td>\n",
       "      <td>2010-04-16</td>\n",
       "      <td>2016-04-16</td>\n",
       "      <td>2010-04-16</td>\n",
       "      <td>2015-04-17</td>\n",
       "      <td>47.96</td>\n",
       "      <td>...</td>\n",
       "      <td>f</td>\n",
       "      <td>0.00</td>\n",
       "      <td>28.60</td>\n",
       "      <td>28.60</td>\n",
       "      <td>1</td>\n",
       "      <td>6.60</td>\n",
       "      <td>6</td>\n",
       "      <td>kamkkxfxxuwbdslkwifmmcsiusiuosws</td>\n",
       "      <td>13.856</td>\n",
       "      <td>0</td>\n",
       "    </tr>\n",
       "    <tr>\n",
       "      <th>3</th>\n",
       "      <td>bba03439a292a1e166f80264c16191cb</td>\n",
       "      <td>lmkebamcaaclubfxadlmueccxoimlema</td>\n",
       "      <td>1584</td>\n",
       "      <td>0</td>\n",
       "      <td>0</td>\n",
       "      <td>2010-03-30</td>\n",
       "      <td>2016-03-30</td>\n",
       "      <td>2010-03-30</td>\n",
       "      <td>2015-03-31</td>\n",
       "      <td>240.04</td>\n",
       "      <td>...</td>\n",
       "      <td>f</td>\n",
       "      <td>0.00</td>\n",
       "      <td>30.22</td>\n",
       "      <td>30.22</td>\n",
       "      <td>1</td>\n",
       "      <td>25.46</td>\n",
       "      <td>6</td>\n",
       "      <td>kamkkxfxxuwbdslkwifmmcsiusiuosws</td>\n",
       "      <td>13.200</td>\n",
       "      <td>0</td>\n",
       "    </tr>\n",
       "    <tr>\n",
       "      <th>4</th>\n",
       "      <td>149d57cf92fc41cf94415803a877cb4b</td>\n",
       "      <td>MISSING</td>\n",
       "      <td>4425</td>\n",
       "      <td>0</td>\n",
       "      <td>526</td>\n",
       "      <td>2010-01-13</td>\n",
       "      <td>2016-03-07</td>\n",
       "      <td>2010-01-13</td>\n",
       "      <td>2015-03-09</td>\n",
       "      <td>445.75</td>\n",
       "      <td>...</td>\n",
       "      <td>f</td>\n",
       "      <td>52.32</td>\n",
       "      <td>44.91</td>\n",
       "      <td>44.91</td>\n",
       "      <td>1</td>\n",
       "      <td>47.98</td>\n",
       "      <td>6</td>\n",
       "      <td>kamkkxfxxuwbdslkwifmmcsiusiuosws</td>\n",
       "      <td>19.800</td>\n",
       "      <td>0</td>\n",
       "    </tr>\n",
       "  </tbody>\n",
       "</table>\n",
       "<p>5 rows × 26 columns</p>\n",
       "</div>"
      ],
      "text/plain": [
       "                                 id                     channel_sales   \n",
       "0  24011ae4ebbe3035111d65fa7c15bc57  foosdfpfkusacimwkcsosbicdxkicaua  \\\n",
       "1  d29c2c54acc38ff3c0614d0a653813dd                           MISSING   \n",
       "2  764c75f661154dac3a6c254cd082ea7d  foosdfpfkusacimwkcsosbicdxkicaua   \n",
       "3  bba03439a292a1e166f80264c16191cb  lmkebamcaaclubfxadlmueccxoimlema   \n",
       "4  149d57cf92fc41cf94415803a877cb4b                           MISSING   \n",
       "\n",
       "   cons_12m  cons_gas_12m  cons_last_month  date_activ    date_end   \n",
       "0         0         54946                0  2013-06-15  2016-06-15  \\\n",
       "1      4660             0                0  2009-08-21  2016-08-30   \n",
       "2       544             0                0  2010-04-16  2016-04-16   \n",
       "3      1584             0                0  2010-03-30  2016-03-30   \n",
       "4      4425             0              526  2010-01-13  2016-03-07   \n",
       "\n",
       "  date_modif_prod date_renewal  forecast_cons_12m  ...  has_gas  imp_cons   \n",
       "0      2015-11-01   2015-06-23               0.00  ...        t      0.00  \\\n",
       "1      2009-08-21   2015-08-31             189.95  ...        f      0.00   \n",
       "2      2010-04-16   2015-04-17              47.96  ...        f      0.00   \n",
       "3      2010-03-30   2015-03-31             240.04  ...        f      0.00   \n",
       "4      2010-01-13   2015-03-09             445.75  ...        f     52.32   \n",
       "\n",
       "   margin_gross_pow_ele  margin_net_pow_ele  nb_prod_act  net_margin   \n",
       "0                 25.44               25.44            2      678.99  \\\n",
       "1                 16.38               16.38            1       18.89   \n",
       "2                 28.60               28.60            1        6.60   \n",
       "3                 30.22               30.22            1       25.46   \n",
       "4                 44.91               44.91            1       47.98   \n",
       "\n",
       "  num_years_antig                         origin_up  pow_max  churn  \n",
       "0               3  lxidpiddsbxsbosboudacockeimpuepw   43.648      1  \n",
       "1               6  kamkkxfxxuwbdslkwifmmcsiusiuosws   13.800      0  \n",
       "2               6  kamkkxfxxuwbdslkwifmmcsiusiuosws   13.856      0  \n",
       "3               6  kamkkxfxxuwbdslkwifmmcsiusiuosws   13.200      0  \n",
       "4               6  kamkkxfxxuwbdslkwifmmcsiusiuosws   19.800      0  \n",
       "\n",
       "[5 rows x 26 columns]"
      ]
     },
     "execution_count": 10,
     "metadata": {},
     "output_type": "execute_result"
    }
   ],
   "source": [
    "client_df.head()"
   ]
  },
  {
   "cell_type": "markdown",
   "id": "6a7a8879-c483-4464-9057-c70e6b150e53",
   "metadata": {},
   "source": [
    "---\n",
    "\n",
    "## Data visualization\n",
    "\n",
    "If you're working in Python, two of the most popular packages for visualization are `matplotlib` and `seaborn`. We highly recommend you use these, or at least be familiar with them because they are ubiquitous!\n",
    "\n",
    "Below are some functions that you can use to get started with visualizations. "
   ]
  },
  {
   "cell_type": "markdown",
   "id": "7b1d8efe",
   "metadata": {},
   "source": []
  },
  {
   "cell_type": "code",
   "execution_count": 9,
   "id": "ede3a99e",
   "metadata": {},
   "outputs": [
    {
     "data": {
      "image/png": "[encoded data removed]",
      "text/plain": [
       "<Figure size 720x432 with 1 Axes>"
      ]
     },
     "metadata": {},
     "output_type": "display_data"
    }
   ],
   "source": [
    "yac = client_df.groupby(\"nb_prod_act\")['churn'].value_counts(normalize=False).unstack()\n",
    "\n",
    "yac.plot(kind='bar', stacked='False',figsize=(10,6))\n",
    "\n",
    "plt.title('Churn by The number of active products and services')\n",
    "plt.ylabel('Total Net Margain')\n",
    "plt.show()"
   ]
  },
  {
   "cell_type": "code",
   "execution_count": null,
   "id": "935508a4",
   "metadata": {},
   "outputs": [],
   "source": []
  },
  {
   "cell_type": "code",
   "execution_count": 33,
   "id": "1218b5e5",
   "metadata": {},
   "outputs": [
    {
     "data": {
      "image/png": "[encoded data removed]",
      "text/plain": [
       "<Figure size 432x288 with 1 Axes>"
      ]
     },
     "metadata": {},
     "output_type": "display_data"
    }
   ],
   "source": [
    "# plot histogram of subscribed power\n",
    "plt.hist(client_df['pow_max'])\n",
    "plt.title('Histogram of Subscribed Power')\n",
    "plt.xlabel('Subscribed Power (kW)')\n",
    "plt.ylabel('Frequency')\n",
    "plt.show()"
   ]
  },
  {
   "cell_type": "code",
   "execution_count": 35,
   "id": "05e87fe1",
   "metadata": {},
   "outputs": [
    {
     "data": {
      "image/png": "[encoded data removed]",
      "text/plain": [
       "<Figure size 432x288 with 1 Axes>"
      ]
     },
     "metadata": {},
     "output_type": "display_data"
    }
   ],
   "source": [
    "# plot histogram of electricity consumption of the past 12 months\n",
    "plt.hist(client_df['cons_12m'])\n",
    "plt.title('Histogram of Electricity Consumption of the Past 12 Months')\n",
    "plt.xlabel('Electricity Consumption (kWh)')\n",
    "plt.ylabel('Frequency')\n",
    "plt.show()\n",
    "\n"
   ]
  },
  {
   "cell_type": "code",
   "execution_count": 36,
   "id": "c75937d0",
   "metadata": {},
   "outputs": [
    {
     "data": {
      "image/png": "[encoded data removed]",
      "text/plain": [
       "<Figure size 432x288 with 1 Axes>"
      ]
     },
     "metadata": {},
     "output_type": "display_data"
    }
   ],
   "source": [
    "# plot histogram of the number of active products and services\n",
    "plt.hist(client_df['nb_prod_act'])\n",
    "plt.title('Histogram of Number of Active Products and Services')\n",
    "plt.xlabel('Number of Active Products and Services')\n",
    "plt.ylabel('Frequency')\n",
    "plt.show()"
   ]
  },
  {
   "cell_type": "code",
   "execution_count": 31,
   "id": "fd46a289",
   "metadata": {},
   "outputs": [
    {
     "data": {
      "image/png": "[encoded data removed]",
      "text/plain": [
       "<Figure size 432x288 with 1 Axes>"
      ]
     },
     "metadata": {},
     "output_type": "display_data"
    }
   ],
   "source": [
    "# scatterplot of electricity consumption of the past 12 months and current paid consumption\n",
    "plt.scatter(client_df['cons_12m'], client_df['imp_cons'])\n",
    "plt.title('Scatterplot of Electricity Consumption of the Past 12 Months and Current Paid Consumption')\n",
    "plt.xlabel('Electricity Consumption of the Past 12 Months (kWh)')\n",
    "plt.ylabel('Current Paid Consumption (kWh)')\n",
    "plt.show()"
   ]
  },
  {
   "cell_type": "code",
   "execution_count": 32,
   "id": "4108ab34",
   "metadata": {},
   "outputs": [
    {
     "data": {
      "image/png": "[encoded data removed]",
      "text/plain": [
       "<Figure size 432x288 with 1 Axes>"
      ]
     },
     "metadata": {},
     "output_type": "display_data"
    }
   ],
   "source": [
    "# scatterplot of net margin and gross margin on power subscription\n",
    "plt.scatter(client_df['net_margin'], client_df['margin_gross_pow_ele'])\n",
    "plt.title('Scatterplot of Net Margin and Gross Margin on Power Subscription')\n",
    "plt.xlabel('Net Margin')\n",
    "plt.ylabel('Gross Margin on Power Subscription')\n",
    "plt.show()"
   ]
  },
  {
   "cell_type": "code",
   "execution_count": 28,
   "id": "7504d7cd",
   "metadata": {},
   "outputs": [
    {
     "data": {
      "image/png": "[encoded data removed]",
      "text/plain": [
       "<Figure size 432x288 with 1 Axes>"
      ]
     },
     "metadata": {},
     "output_type": "display_data"
    }
   ],
   "source": [
    "# boxplot of net margin by sales channel\n",
    "sns.boxplot(x='channel_sales', y='net_margin', data=client_df)\n",
    "plt.title('Boxplot of Net Margin by Sales Channel')\n",
    "plt.xlabel('Sales Channel')\n",
    "plt.ylabel('Net Margin')\n",
    "plt.show()"
   ]
  },
  {
   "cell_type": "code",
   "execution_count": null,
   "id": "3a8be3c8",
   "metadata": {
    "scrolled": true
   },
   "outputs": [],
   "source": []
  },
  {
   "cell_type": "code",
   "execution_count": 30,
   "id": "7f9fb2b8",
   "metadata": {},
   "outputs": [
    {
     "data": {
      "image/png": "[encoded data removed]",
      "text/plain": [
       "<Figure size 432x288 with 1 Axes>"
      ]
     },
     "metadata": {},
     "output_type": "display_data"
    }
   ],
   "source": [
    "# boxplot of subscribed power by has_gas\n",
    "sns.boxplot(x='has_gas', y='pow_max', data=client_df)\n",
    "plt.title('Boxplot of Subscribed Power by Has Gas')\n",
    "plt.xlabel('Has Gas')\n",
    "plt.ylabel('Subscribed Power (kW)')\n",
    "plt.show()"
   ]
  },
  {
   "cell_type": "code",
   "execution_count": 19,
   "id": "be338f38",
   "metadata": {},
   "outputs": [
    {
     "data": {
      "image/png": "[encoded data removed]",
      "text/plain": [
       "<Figure size 432x288 with 1 Axes>"
      ]
     },
     "metadata": {},
     "output_type": "display_data"
    }
   ],
   "source": [
    "# Visualize the distribution of churn\n",
    "sns.countplot(x='churn', data=client_df)\n",
    "plt.show()"
   ]
  },
  {
   "cell_type": "code",
   "execution_count": 27,
   "id": "bfcfd085",
   "metadata": {},
   "outputs": [
    {
     "name": "stderr",
     "output_type": "stream",
     "text": [
      "/tmp/ipykernel_108135/507748687.py:2: FutureWarning: \n",
      "\n",
      "`shade` is now deprecated in favor of `fill`; setting `fill=True`.\n",
      "This will become an error in seaborn v0.14.0; please update your code.\n",
      "\n",
      "  sns.kdeplot(price_df['price_off_peak_var'], shade=True, color='blue', label='off-peak')\n",
      "/tmp/ipykernel_108135/507748687.py:3: FutureWarning: \n",
      "\n",
      "`shade` is now deprecated in favor of `fill`; setting `fill=True`.\n",
      "This will become an error in seaborn v0.14.0; please update your code.\n",
      "\n",
      "  sns.kdeplot(price_df['price_peak_var'], shade=True, color='red', label='peak')\n",
      "/tmp/ipykernel_108135/507748687.py:4: FutureWarning: \n",
      "\n",
      "`shade` is now deprecated in favor of `fill`; setting `fill=True`.\n",
      "This will become an error in seaborn v0.14.0; please update your code.\n",
      "\n",
      "  sns.kdeplot(price_df['price_mid_peak_var'], shade=True, color='green', label='mid-peak')\n"
     ]
    },
    {
     "data": {
      "image/png": "[encoded data removed]",
      "text/plain": [
       "<Figure size 432x288 with 1 Axes>"
      ]
     },
     "metadata": {},
     "output_type": "display_data"
    }
   ],
   "source": [
    "# Visualize the distribution of prices\n",
    "sns.kdeplot(price_df['price_off_peak_var'], shade=True, color='blue', label='off-peak')\n",
    "sns.kdeplot(price_df['price_peak_var'], shade=True, color='red', label='peak')\n",
    "sns.kdeplot(price_df['price_mid_peak_var'], shade=True, color='green', label='mid-peak')\n",
    "plt.xlabel('Price')\n",
    "plt.ylabel('Density')\n",
    "plt.show()"
   ]
  },
  {
   "cell_type": "code",
   "execution_count": 17,
   "id": "f350ea0a-dc45-43f5-a6b7-e5e816964419",
   "metadata": {},
   "outputs": [],
   "source": [
    "def plot_stacked_bars(dataframe, title_, size_=(18, 10), rot_=0, legend_=\"upper right\"):\n",
    "    \"\"\"\n",
    "    Plot stacked bars with annotations\n",
    "    \"\"\"\n",
    "    ax = dataframe.plot(\n",
    "        kind=\"bar\",\n",
    "        stacked=True,\n",
    "        figsize=size_,\n",
    "        rot=rot_,\n",
    "        title=title_\n",
    "    )\n",
    "\n",
    "    # Annotate bars\n",
    "    annotate_stacked_bars(ax, textsize=14)\n",
    "    # Rename legend\n",
    "    plt.legend([\"Retention\", \"Churn\"], loc=legend_)\n",
    "    # Labels\n",
    "    plt.ylabel(\"Company base (%)\")\n",
    "    plt.show()\n",
    "\n",
    "def annotate_stacked_bars(ax, pad=0.99, colour=\"white\", textsize=13):\n",
    "    \"\"\"\n",
    "    Add value annotations to the bars\n",
    "    \"\"\"\n",
    "\n",
    "    # Iterate over the plotted rectanges/bars\n",
    "    for p in ax.patches:\n",
    "        \n",
    "        # Calculate annotation\n",
    "        value = str(round(p.get_height(),1))\n",
    "        # If value is 0 do not annotate\n",
    "        if value == '0.0':\n",
    "            continue\n",
    "        ax.annotate(\n",
    "            value,\n",
    "            ((p.get_x()+ p.get_width()/2)*pad-0.05, (p.get_y()+p.get_height()/2)*pad),\n",
    "            color=colour,\n",
    "            size=textsize\n",
    "        )\n",
    "\n",
    "def plot_distribution(dataframe, column, ax, bins_=50):\n",
    "    \"\"\"\n",
    "    Plot variable distirbution in a stacked histogram of churned or retained company\n",
    "    \"\"\"\n",
    "    # Create a temporal dataframe with the data to be plot\n",
    "    temp = pd.DataFrame({\"Retention\": dataframe[dataframe[\"churn\"]==0][column],\n",
    "    \"Churn\":dataframe[dataframe[\"churn\"]==1][column]})\n",
    "    # Plot the histogram\n",
    "    temp[[\"Retention\",\"Churn\"]].plot(kind='hist', bins=bins_, ax=ax, stacked=True)\n",
    "    # X-axis label\n",
    "    ax.set_xlabel(column)\n",
    "    # Change the x-axis to plain style\n",
    "    ax.ticklabel_format(style='plain', axis='x')"
   ]
  },
  {
   "cell_type": "markdown",
   "id": "6eab14d0",
   "metadata": {},
   "source": [
    "Thhe first function `plot_stacked_bars` is used to plot a stacked bar chart. An example of how you could use this is shown below:"
   ]
  },
  {
   "cell_type": "code",
   "execution_count": 40,
   "id": "448c05d8",
   "metadata": {},
   "outputs": [
    {
     "data": {
      "image/png": "[encoded data removed]",
      "text/plain": [
       "<Figure size 360x360 with 1 Axes>"
      ]
     },
     "metadata": {},
     "output_type": "display_data"
    }
   ],
   "source": [
    "churn = client_df[['id', 'churn']]\n",
    "churn.columns = ['Companies', 'churn']\n",
    "churn_total = churn.groupby(churn['churn']).count()\n",
    "churn_percentage = churn_total / churn_total.sum() * 100\n",
    "plot_stacked_bars(churn_percentage.transpose(), \"Churning status\", (5, 5), legend_=\"lower right\")"
   ]
  },
  {
   "cell_type": "markdown",
   "id": "d055f10e",
   "metadata": {},
   "source": [
    "The second function `annotate_bars` is used by the first function, but the third function `plot_distribution` helps you to plot the distribution of a numeric column. An example of how it can be used is given below:"
   ]
  },
  {
   "cell_type": "code",
   "execution_count": 18,
   "id": "9a28757e",
   "metadata": {},
   "outputs": [
    {
     "data": {
      "image/png": "[encoded data removed]",
      "text/plain": [
       "<Figure size 1296x360 with 1 Axes>"
      ]
     },
     "metadata": {},
     "output_type": "display_data"
    }
   ],
   "source": [
    "consumption = client_df[['id', 'cons_12m', 'cons_gas_12m', 'cons_last_month', 'imp_cons', 'has_gas', 'churn']]\n",
    "\n",
    "fig, axs = plt.subplots(nrows=1, figsize=(18, 5))\n",
    "\n",
    "plot_distribution(consumption, 'cons_12m', axs)"
   ]
  },
  {
   "cell_type": "code",
   "execution_count": 11,
   "id": "56b88481",
   "metadata": {},
   "outputs": [],
   "source": [
    "# we merging the two datasets to form one.\n",
    "merged_data = pd.merge(client_df, price_df, on='id')"
   ]
  },
  {
   "cell_type": "code",
   "execution_count": 12,
   "id": "c95fcb4c",
   "metadata": {},
   "outputs": [
    {
     "data": {
      "text/html": [
       "<div>\n",
       "<style scoped>\n",
       "    .dataframe tbody tr th:only-of-type {\n",
       "        vertical-align: middle;\n",
       "    }\n",
       "\n",
       "    .dataframe tbody tr th {\n",
       "        vertical-align: top;\n",
       "    }\n",
       "\n",
       "    .dataframe thead th {\n",
       "        text-align: right;\n",
       "    }\n",
       "</style>\n",
       "<table border=\"1\" class=\"dataframe\">\n",
       "  <thead>\n",
       "    <tr style=\"text-align: right;\">\n",
       "      <th></th>\n",
       "      <th>id</th>\n",
       "      <th>channel_sales</th>\n",
       "      <th>cons_12m</th>\n",
       "      <th>cons_gas_12m</th>\n",
       "      <th>cons_last_month</th>\n",
       "      <th>date_activ</th>\n",
       "      <th>date_end</th>\n",
       "      <th>date_modif_prod</th>\n",
       "      <th>date_renewal</th>\n",
       "      <th>forecast_cons_12m</th>\n",
       "      <th>...</th>\n",
       "      <th>origin_up</th>\n",
       "      <th>pow_max</th>\n",
       "      <th>churn</th>\n",
       "      <th>price_date</th>\n",
       "      <th>price_off_peak_var</th>\n",
       "      <th>price_peak_var</th>\n",
       "      <th>price_mid_peak_var</th>\n",
       "      <th>price_off_peak_fix</th>\n",
       "      <th>price_peak_fix</th>\n",
       "      <th>price_mid_peak_fix</th>\n",
       "    </tr>\n",
       "  </thead>\n",
       "  <tbody>\n",
       "    <tr>\n",
       "      <th>0</th>\n",
       "      <td>24011ae4ebbe3035111d65fa7c15bc57</td>\n",
       "      <td>foosdfpfkusacimwkcsosbicdxkicaua</td>\n",
       "      <td>0</td>\n",
       "      <td>54946</td>\n",
       "      <td>0</td>\n",
       "      <td>2013-06-15</td>\n",
       "      <td>2016-06-15</td>\n",
       "      <td>2015-11-01</td>\n",
       "      <td>2015-06-23</td>\n",
       "      <td>0.0</td>\n",
       "      <td>...</td>\n",
       "      <td>lxidpiddsbxsbosboudacockeimpuepw</td>\n",
       "      <td>43.648</td>\n",
       "      <td>1</td>\n",
       "      <td>2015-01-01</td>\n",
       "      <td>0.125976</td>\n",
       "      <td>0.103395</td>\n",
       "      <td>0.071536</td>\n",
       "      <td>40.565969</td>\n",
       "      <td>24.339581</td>\n",
       "      <td>16.226389</td>\n",
       "    </tr>\n",
       "    <tr>\n",
       "      <th>1</th>\n",
       "      <td>24011ae4ebbe3035111d65fa7c15bc57</td>\n",
       "      <td>foosdfpfkusacimwkcsosbicdxkicaua</td>\n",
       "      <td>0</td>\n",
       "      <td>54946</td>\n",
       "      <td>0</td>\n",
       "      <td>2013-06-15</td>\n",
       "      <td>2016-06-15</td>\n",
       "      <td>2015-11-01</td>\n",
       "      <td>2015-06-23</td>\n",
       "      <td>0.0</td>\n",
       "      <td>...</td>\n",
       "      <td>lxidpiddsbxsbosboudacockeimpuepw</td>\n",
       "      <td>43.648</td>\n",
       "      <td>1</td>\n",
       "      <td>2015-02-01</td>\n",
       "      <td>0.125976</td>\n",
       "      <td>0.103395</td>\n",
       "      <td>0.071536</td>\n",
       "      <td>40.565969</td>\n",
       "      <td>24.339581</td>\n",
       "      <td>16.226389</td>\n",
       "    </tr>\n",
       "    <tr>\n",
       "      <th>2</th>\n",
       "      <td>24011ae4ebbe3035111d65fa7c15bc57</td>\n",
       "      <td>foosdfpfkusacimwkcsosbicdxkicaua</td>\n",
       "      <td>0</td>\n",
       "      <td>54946</td>\n",
       "      <td>0</td>\n",
       "      <td>2013-06-15</td>\n",
       "      <td>2016-06-15</td>\n",
       "      <td>2015-11-01</td>\n",
       "      <td>2015-06-23</td>\n",
       "      <td>0.0</td>\n",
       "      <td>...</td>\n",
       "      <td>lxidpiddsbxsbosboudacockeimpuepw</td>\n",
       "      <td>43.648</td>\n",
       "      <td>1</td>\n",
       "      <td>2015-03-01</td>\n",
       "      <td>0.125976</td>\n",
       "      <td>0.103395</td>\n",
       "      <td>0.071536</td>\n",
       "      <td>40.565973</td>\n",
       "      <td>24.339578</td>\n",
       "      <td>16.226383</td>\n",
       "    </tr>\n",
       "  </tbody>\n",
       "</table>\n",
       "<p>3 rows × 33 columns</p>\n",
       "</div>"
      ],
      "text/plain": [
       "                                 id                     channel_sales   \n",
       "0  24011ae4ebbe3035111d65fa7c15bc57  foosdfpfkusacimwkcsosbicdxkicaua  \\\n",
       "1  24011ae4ebbe3035111d65fa7c15bc57  foosdfpfkusacimwkcsosbicdxkicaua   \n",
       "2  24011ae4ebbe3035111d65fa7c15bc57  foosdfpfkusacimwkcsosbicdxkicaua   \n",
       "\n",
       "   cons_12m  cons_gas_12m  cons_last_month  date_activ    date_end   \n",
       "0         0         54946                0  2013-06-15  2016-06-15  \\\n",
       "1         0         54946                0  2013-06-15  2016-06-15   \n",
       "2         0         54946                0  2013-06-15  2016-06-15   \n",
       "\n",
       "  date_modif_prod date_renewal  forecast_cons_12m  ...   \n",
       "0      2015-11-01   2015-06-23                0.0  ...  \\\n",
       "1      2015-11-01   2015-06-23                0.0  ...   \n",
       "2      2015-11-01   2015-06-23                0.0  ...   \n",
       "\n",
       "                          origin_up  pow_max  churn  price_date   \n",
       "0  lxidpiddsbxsbosboudacockeimpuepw   43.648      1  2015-01-01  \\\n",
       "1  lxidpiddsbxsbosboudacockeimpuepw   43.648      1  2015-02-01   \n",
       "2  lxidpiddsbxsbosboudacockeimpuepw   43.648      1  2015-03-01   \n",
       "\n",
       "   price_off_peak_var  price_peak_var price_mid_peak_var  price_off_peak_fix   \n",
       "0            0.125976        0.103395           0.071536           40.565969  \\\n",
       "1            0.125976        0.103395           0.071536           40.565969   \n",
       "2            0.125976        0.103395           0.071536           40.565973   \n",
       "\n",
       "   price_peak_fix  price_mid_peak_fix  \n",
       "0       24.339581           16.226389  \n",
       "1       24.339581           16.226389  \n",
       "2       24.339578           16.226383  \n",
       "\n",
       "[3 rows x 33 columns]"
      ]
     },
     "execution_count": 12,
     "metadata": {},
     "output_type": "execute_result"
    }
   ],
   "source": [
    "merged_data.head(3)"
   ]
  },
  {
   "cell_type": "code",
   "execution_count": 13,
   "id": "22848734",
   "metadata": {},
   "outputs": [],
   "source": [
    "# calculate the price change for each period\n",
    "merged_data['price_change'] = (merged_data['price_off_peak_var'] - merged_data['price_off_peak_var'].rolling(window=6).mean()) + \\\n",
    "                              (merged_data['price_peak_var'] - merged_data['price_peak_var'].rolling(window=6).mean()) + \\\n",
    "                              (merged_data['price_mid_peak_var'] - merged_data['price_mid_peak_var'].rolling(window=6).mean()) + \\\n",
    "                              (merged_data['price_off_peak_fix'] - merged_data['price_off_peak_fix'].rolling(window=6).mean()) + \\\n",
    "                              (merged_data['price_peak_fix'] - merged_data['price_peak_fix'].rolling(window=6).mean()) + \\\n",
    "                              (merged_data['price_mid_peak_fix'] - merged_data['price_mid_peak_fix'].rolling(window=6).mean())"
   ]
  },
  {
   "cell_type": "code",
   "execution_count": 42,
   "id": "ad4e7159",
   "metadata": {},
   "outputs": [
    {
     "data": {
      "text/html": [
       "<div>\n",
       "<style scoped>\n",
       "    .dataframe tbody tr th:only-of-type {\n",
       "        vertical-align: middle;\n",
       "    }\n",
       "\n",
       "    .dataframe tbody tr th {\n",
       "        vertical-align: top;\n",
       "    }\n",
       "\n",
       "    .dataframe thead th {\n",
       "        text-align: right;\n",
       "    }\n",
       "</style>\n",
       "<table border=\"1\" class=\"dataframe\">\n",
       "  <thead>\n",
       "    <tr style=\"text-align: right;\">\n",
       "      <th></th>\n",
       "      <th>id</th>\n",
       "      <th>channel_sales</th>\n",
       "      <th>cons_12m</th>\n",
       "      <th>cons_gas_12m</th>\n",
       "      <th>cons_last_month</th>\n",
       "      <th>date_activ</th>\n",
       "      <th>date_end</th>\n",
       "      <th>date_modif_prod</th>\n",
       "      <th>date_renewal</th>\n",
       "      <th>forecast_cons_12m</th>\n",
       "      <th>...</th>\n",
       "      <th>churn</th>\n",
       "      <th>price_date</th>\n",
       "      <th>price_off_peak_var</th>\n",
       "      <th>price_peak_var</th>\n",
       "      <th>price_mid_peak_var</th>\n",
       "      <th>price_off_peak_fix</th>\n",
       "      <th>price_peak_fix</th>\n",
       "      <th>price_mid_peak_fix</th>\n",
       "      <th>price_change</th>\n",
       "      <th>price_change_cat</th>\n",
       "    </tr>\n",
       "  </thead>\n",
       "  <tbody>\n",
       "    <tr>\n",
       "      <th>0</th>\n",
       "      <td>24011ae4ebbe3035111d65fa7c15bc57</td>\n",
       "      <td>foosdfpfkusacimwkcsosbicdxkicaua</td>\n",
       "      <td>0</td>\n",
       "      <td>54946</td>\n",
       "      <td>0</td>\n",
       "      <td>2013-06-15</td>\n",
       "      <td>2016-06-15</td>\n",
       "      <td>2015-11-01</td>\n",
       "      <td>2015-06-23</td>\n",
       "      <td>0.0</td>\n",
       "      <td>...</td>\n",
       "      <td>1</td>\n",
       "      <td>2015-01-01</td>\n",
       "      <td>0.125976</td>\n",
       "      <td>0.103395</td>\n",
       "      <td>0.071536</td>\n",
       "      <td>40.565969</td>\n",
       "      <td>24.339581</td>\n",
       "      <td>16.226389</td>\n",
       "      <td>NaN</td>\n",
       "      <td>NaN</td>\n",
       "    </tr>\n",
       "    <tr>\n",
       "      <th>1</th>\n",
       "      <td>24011ae4ebbe3035111d65fa7c15bc57</td>\n",
       "      <td>foosdfpfkusacimwkcsosbicdxkicaua</td>\n",
       "      <td>0</td>\n",
       "      <td>54946</td>\n",
       "      <td>0</td>\n",
       "      <td>2013-06-15</td>\n",
       "      <td>2016-06-15</td>\n",
       "      <td>2015-11-01</td>\n",
       "      <td>2015-06-23</td>\n",
       "      <td>0.0</td>\n",
       "      <td>...</td>\n",
       "      <td>1</td>\n",
       "      <td>2015-02-01</td>\n",
       "      <td>0.125976</td>\n",
       "      <td>0.103395</td>\n",
       "      <td>0.071536</td>\n",
       "      <td>40.565969</td>\n",
       "      <td>24.339581</td>\n",
       "      <td>16.226389</td>\n",
       "      <td>NaN</td>\n",
       "      <td>NaN</td>\n",
       "    </tr>\n",
       "    <tr>\n",
       "      <th>2</th>\n",
       "      <td>24011ae4ebbe3035111d65fa7c15bc57</td>\n",
       "      <td>foosdfpfkusacimwkcsosbicdxkicaua</td>\n",
       "      <td>0</td>\n",
       "      <td>54946</td>\n",
       "      <td>0</td>\n",
       "      <td>2013-06-15</td>\n",
       "      <td>2016-06-15</td>\n",
       "      <td>2015-11-01</td>\n",
       "      <td>2015-06-23</td>\n",
       "      <td>0.0</td>\n",
       "      <td>...</td>\n",
       "      <td>1</td>\n",
       "      <td>2015-03-01</td>\n",
       "      <td>0.125976</td>\n",
       "      <td>0.103395</td>\n",
       "      <td>0.071536</td>\n",
       "      <td>40.565973</td>\n",
       "      <td>24.339578</td>\n",
       "      <td>16.226383</td>\n",
       "      <td>NaN</td>\n",
       "      <td>NaN</td>\n",
       "    </tr>\n",
       "    <tr>\n",
       "      <th>3</th>\n",
       "      <td>24011ae4ebbe3035111d65fa7c15bc57</td>\n",
       "      <td>foosdfpfkusacimwkcsosbicdxkicaua</td>\n",
       "      <td>0</td>\n",
       "      <td>54946</td>\n",
       "      <td>0</td>\n",
       "      <td>2013-06-15</td>\n",
       "      <td>2016-06-15</td>\n",
       "      <td>2015-11-01</td>\n",
       "      <td>2015-06-23</td>\n",
       "      <td>0.0</td>\n",
       "      <td>...</td>\n",
       "      <td>1</td>\n",
       "      <td>2015-04-01</td>\n",
       "      <td>0.125976</td>\n",
       "      <td>0.103395</td>\n",
       "      <td>0.071536</td>\n",
       "      <td>40.565973</td>\n",
       "      <td>24.339578</td>\n",
       "      <td>16.226383</td>\n",
       "      <td>NaN</td>\n",
       "      <td>NaN</td>\n",
       "    </tr>\n",
       "    <tr>\n",
       "      <th>4</th>\n",
       "      <td>24011ae4ebbe3035111d65fa7c15bc57</td>\n",
       "      <td>foosdfpfkusacimwkcsosbicdxkicaua</td>\n",
       "      <td>0</td>\n",
       "      <td>54946</td>\n",
       "      <td>0</td>\n",
       "      <td>2013-06-15</td>\n",
       "      <td>2016-06-15</td>\n",
       "      <td>2015-11-01</td>\n",
       "      <td>2015-06-23</td>\n",
       "      <td>0.0</td>\n",
       "      <td>...</td>\n",
       "      <td>1</td>\n",
       "      <td>2015-05-01</td>\n",
       "      <td>0.125976</td>\n",
       "      <td>0.103395</td>\n",
       "      <td>0.071536</td>\n",
       "      <td>40.565973</td>\n",
       "      <td>24.339578</td>\n",
       "      <td>16.226383</td>\n",
       "      <td>NaN</td>\n",
       "      <td>NaN</td>\n",
       "    </tr>\n",
       "  </tbody>\n",
       "</table>\n",
       "<p>5 rows × 35 columns</p>\n",
       "</div>"
      ],
      "text/plain": [
       "                                 id                     channel_sales   \n",
       "0  24011ae4ebbe3035111d65fa7c15bc57  foosdfpfkusacimwkcsosbicdxkicaua  \\\n",
       "1  24011ae4ebbe3035111d65fa7c15bc57  foosdfpfkusacimwkcsosbicdxkicaua   \n",
       "2  24011ae4ebbe3035111d65fa7c15bc57  foosdfpfkusacimwkcsosbicdxkicaua   \n",
       "3  24011ae4ebbe3035111d65fa7c15bc57  foosdfpfkusacimwkcsosbicdxkicaua   \n",
       "4  24011ae4ebbe3035111d65fa7c15bc57  foosdfpfkusacimwkcsosbicdxkicaua   \n",
       "\n",
       "   cons_12m  cons_gas_12m  cons_last_month  date_activ    date_end   \n",
       "0         0         54946                0  2013-06-15  2016-06-15  \\\n",
       "1         0         54946                0  2013-06-15  2016-06-15   \n",
       "2         0         54946                0  2013-06-15  2016-06-15   \n",
       "3         0         54946                0  2013-06-15  2016-06-15   \n",
       "4         0         54946                0  2013-06-15  2016-06-15   \n",
       "\n",
       "  date_modif_prod date_renewal  forecast_cons_12m  ...  churn  price_date   \n",
       "0      2015-11-01   2015-06-23                0.0  ...      1  2015-01-01  \\\n",
       "1      2015-11-01   2015-06-23                0.0  ...      1  2015-02-01   \n",
       "2      2015-11-01   2015-06-23                0.0  ...      1  2015-03-01   \n",
       "3      2015-11-01   2015-06-23                0.0  ...      1  2015-04-01   \n",
       "4      2015-11-01   2015-06-23                0.0  ...      1  2015-05-01   \n",
       "\n",
       "   price_off_peak_var  price_peak_var  price_mid_peak_var  price_off_peak_fix   \n",
       "0            0.125976        0.103395            0.071536           40.565969  \\\n",
       "1            0.125976        0.103395            0.071536           40.565969   \n",
       "2            0.125976        0.103395            0.071536           40.565973   \n",
       "3            0.125976        0.103395            0.071536           40.565973   \n",
       "4            0.125976        0.103395            0.071536           40.565973   \n",
       "\n",
       "  price_peak_fix  price_mid_peak_fix  price_change  price_change_cat  \n",
       "0      24.339581           16.226389           NaN               NaN  \n",
       "1      24.339581           16.226389           NaN               NaN  \n",
       "2      24.339578           16.226383           NaN               NaN  \n",
       "3      24.339578           16.226383           NaN               NaN  \n",
       "4      24.339578           16.226383           NaN               NaN  \n",
       "\n",
       "[5 rows x 35 columns]"
      ]
     },
     "execution_count": 42,
     "metadata": {},
     "output_type": "execute_result"
    }
   ],
   "source": [
    "merged_data.head()"
   ]
  },
  {
   "cell_type": "code",
   "execution_count": 15,
   "id": "3db621a1",
   "metadata": {},
   "outputs": [
    {
     "data": {
      "text/plain": [
       "id                                0\n",
       "channel_sales                     0\n",
       "cons_12m                          0\n",
       "cons_gas_12m                      0\n",
       "cons_last_month                   0\n",
       "date_activ                        0\n",
       "date_end                          0\n",
       "date_modif_prod                   0\n",
       "date_renewal                      0\n",
       "forecast_cons_12m                 0\n",
       "forecast_cons_year                0\n",
       "forecast_discount_energy          0\n",
       "forecast_meter_rent_12m           0\n",
       "forecast_price_energy_off_peak    0\n",
       "forecast_price_energy_peak        0\n",
       "forecast_price_pow_off_peak       0\n",
       "has_gas                           0\n",
       "imp_cons                          0\n",
       "margin_gross_pow_ele              0\n",
       "margin_net_pow_ele                0\n",
       "nb_prod_act                       0\n",
       "net_margin                        0\n",
       "num_years_antig                   0\n",
       "origin_up                         0\n",
       "pow_max                           0\n",
       "churn                             0\n",
       "price_date                        0\n",
       "price_off_peak_var                0\n",
       "price_peak_var                    0\n",
       "price_mid_peak_var                0\n",
       "price_off_peak_fix                0\n",
       "price_peak_fix                    0\n",
       "price_mid_peak_fix                0\n",
       "price_change                      5\n",
       "dtype: int64"
      ]
     },
     "execution_count": 15,
     "metadata": {},
     "output_type": "execute_result"
    }
   ],
   "source": [
    "merged_data.isna().sum()"
   ]
  },
  {
   "cell_type": "code",
   "execution_count": 41,
   "id": "8c0bda51",
   "metadata": {},
   "outputs": [
    {
     "data": {
      "image/png": "[encoded data removed]",
      "text/plain": [
       "<Figure size 432x288 with 2 Axes>"
      ]
     },
     "metadata": {},
     "output_type": "display_data"
    }
   ],
   "source": [
    "#A  heatmap of the correlation between price changes and other variables\n",
    "sns.heatmap(merged_data[['price_change', 'cons_12m', 'forecast_cons_12m', 'nb_prod_act', 'pow_max', 'churn']].corr(), cmap='coolwarm')\n",
    "plt.show()"
   ]
  },
  {
   "cell_type": "code",
   "execution_count": 39,
   "id": "d69750bd",
   "metadata": {},
   "outputs": [
    {
     "data": {
      "text/plain": [
       "<AxesSubplot:xlabel='price_change_cat', ylabel='count'>"
      ]
     },
     "execution_count": 39,
     "metadata": {},
     "output_type": "execute_result"
    },
    {
     "data": {
      "image/png": "[encoded data removed]",
      "text/plain": [
       "<Figure size 432x288 with 1 Axes>"
      ]
     },
     "metadata": {},
     "output_type": "display_data"
    }
   ],
   "source": [
    "# create a new column to categorize price change as positive, negative, or zero\n",
    "merged_data['price_change_cat'] = pd.cut(merged_data['price_change'], [-np.inf, 0, np.inf], labels=['negative', 'positive'])\n",
    "\n",
    "# create a bar chart showing the count of churned customers based on the sign of the price change\n",
    "sns.countplot(x='price_change_cat', hue='churn', data=merged_data)"
   ]
  },
  {
   "cell_type": "code",
   "execution_count": null,
   "id": "d2edaa86",
   "metadata": {},
   "outputs": [],
   "source": []
  },
  {
   "cell_type": "code",
   "execution_count": 40,
   "id": "d9431695",
   "metadata": {},
   "outputs": [
    {
     "data": {
      "image/png": "[encoded data removed]",
      "text/plain": [
       "<Figure size 432x288 with 1 Axes>"
      ]
     },
     "metadata": {},
     "output_type": "display_data"
    }
   ],
   "source": [
    "# filter only negative price changes\n",
    "neg_price_changes = merged_data[merged_data['price_change'] < 0]\n",
    "\n",
    "# create scatter plot with different colors for churned and non-churned customers\n",
    "plt.scatter(neg_price_changes[neg_price_changes['churn'] == 0]['price_change'], \n",
    "            neg_price_changes[neg_price_changes['churn'] == 0]['churn'], \n",
    "            color='blue', label='non-churned')\n",
    "plt.scatter(neg_price_changes[neg_price_changes['churn'] == 1]['price_change'], \n",
    "            neg_price_changes[neg_price_changes['churn'] == 1]['churn'], \n",
    "            color='red', label='churned')\n",
    "plt.xlabel('Price Change')\n",
    "plt.ylabel('Churn')\n",
    "plt.title('Relationship between Negative Price Changes and Churn')\n",
    "plt.legend()\n",
    "plt.show()"
   ]
  },
  {
   "cell_type": "markdown",
   "id": "a290c0e5",
   "metadata": {},
   "source": [
    "## Key findings"
   ]
  },
  {
   "cell_type": "markdown",
   "id": "b81f46ba",
   "metadata": {},
   "source": [
    "The client_data.csv dataset contains a mix of categorical and numerical variables, with some missing\n",
    "values.\n",
    "The price_data.csv dataset contains numerical variables for different prices and needs to be joined with\n",
    "the client_data.csv dataset on the id column.\n",
    "There is a strong correlation between customer churn and the price change of a product and services\n",
    "and a weak correlation between churn and subscribed power.\n",
    "From the Boxplot of Subscribed Power by Has Gas, we see that there is high subscribed power when\n",
    "customer does not have gas."
   ]
  },
  {
   "cell_type": "markdown",
   "id": "49924001",
   "metadata": {},
   "source": [
    "## Some suggestions "
   ]
  },
  {
   "cell_type": "markdown",
   "id": "23f82971",
   "metadata": {},
   "source": [
    "Based on these findings, we suggest that the company could augment its existing data with additional\n",
    "sources of data.\n",
    "It would be useful to have data on customer demographics (e.g., age, gender, income) and geographic\n",
    "location to analyze how these factors affect churn and price sensitivity.\n",
    "Some potential sources of data include:Social media data, Energy usage data etc. With this, the\n",
    "company could gain a more comprehensive understanding of the factors contributing to customer churn\n",
    "and develop more effective strategies for reducing churn."
   ]
  },
  {
   "cell_type": "code",
   "execution_count": null,
   "id": "340fc9d1",
   "metadata": {},
   "outputs": [],
   "source": []
  }
 ],
 "metadata": {
  "interpreter": {
   "hash": "152bf6e7dc8ee53edb5af21dc1a8faeab7f134840808a94079ed98d91ece7e0c"
  },
  "kernelspec": {
   "display_name": "Python 3 (ipykernel)",
   "language": "python",
   "name": "python3"
  },
  "language_info": {
   "codemirror_mode": {
    "name": "ipython",
    "version": 3
   },
   "file_extension": ".py",
   "mimetype": "text/x-python",
   "name": "python",
   "nbconvert_exporter": "python",
   "pygments_lexer": "ipython3",
   "version": "3.10.6"
  }
 },
 "nbformat": 4,
 "nbformat_minor": 5
}
